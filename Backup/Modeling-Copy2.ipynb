{
 "cells": [
  {
   "cell_type": "markdown",
   "metadata": {
    "collapsed": true
   },
   "source": [
    "# Latency Arbitrage\n",
    "## Two Market Model\n",
    "\n",
    "TODO:\n",
    "   7. add a second market\n",
    "   8. add routing\n",
    "   9. update SIP\n",
    "   10. (At time time, a system w/o LA is complete)\n",
    "   11. plot\n",
    "   12. add LA\n",
    "   13. add other measures"
   ]
  },
  {
   "cell_type": "code",
   "execution_count": 1,
   "metadata": {
    "collapsed": true
   },
   "outputs": [],
   "source": [
    "%matplotlib inline\n",
    "import numpy as np\n",
    "import bisect\n",
    "import matplotlib.pyplot as plt\n",
    "from collections import deque\n",
    "import seaborn as sns\n",
    "\n",
    "import warnings\n",
    "\n",
    "warnings.simplefilter(\"error\")"
   ]
  },
  {
   "cell_type": "markdown",
   "metadata": {},
   "source": [
    "## Classes and functions"
   ]
  },
  {
   "cell_type": "code",
   "execution_count": 2,
   "metadata": {
    "collapsed": true
   },
   "outputs": [],
   "source": [
    "class order:\n",
    "    def __init__(self, price, valuation, time):\n",
    "        self.p = price\n",
    "        self.pv = valuation\n",
    "        self.t = time\n",
    "    def __getitem__(self, i):\n",
    "        if i is 0:\n",
    "            return self.p\n",
    "        if i is 1:\n",
    "            return self.pv\n",
    "        if i is 2:\n",
    "            return self.t\n",
    "        else:\n",
    "            raise IndexError(\"{} is not a valid index.\\n Use 0 for price, 1 for valuation, 2 for time\".format(i))"
   ]
  },
  {
   "cell_type": "code",
   "execution_count": 3,
   "metadata": {
    "collapsed": true
   },
   "outputs": [],
   "source": [
    "class KeyWrapper:\n",
    "    def __init__(self, iterable, key):\n",
    "        self.it = iterable\n",
    "        self.key = key\n",
    "\n",
    "    def __getitem__(self, i):\n",
    "        return self.key(self.it[i])\n",
    "\n",
    "    def __len__(self):\n",
    "        return len(self.it)"
   ]
  },
  {
   "cell_type": "code",
   "execution_count": 4,
   "metadata": {
    "collapsed": true
   },
   "outputs": [],
   "source": [
    "def surplus(ask,bid,t):\n",
    "    # ask/bid order: [price,valuation,time placed]\n",
    "    p = ask.p # assmue ask is the incumbent order\n",
    "    if t is ask.t: # unless bid is...\n",
    "        p = bid.p\n",
    "    return  np.exp(-rho*(t-bid.t))*(bid.pv-p) + \\\n",
    "            np.exp(-rho*(t-ask.t))*(p-ask.pv)"
   ]
  },
  {
   "cell_type": "code",
   "execution_count": 5,
   "metadata": {
    "collapsed": true
   },
   "outputs": [],
   "source": [
    "def clearing(askQ,bidQ,surpluses,execution_times,n_executions):\n",
    "    if (askQ[0].p <= bidQ[-1].p):\n",
    "        # clear the 2 orders\n",
    "        ask = askQ.popleft()\n",
    "        bid = bidQ.pop()\n",
    "        # Metrics related to order clearning\n",
    "        #     calculate the surplus\n",
    "        surpluses.append(surplus(ask,bid,t))\n",
    "        #     calculate the execution time (for one of them it's just 0)\n",
    "        execution_times.append(abs(ask.t-bid.t))\n",
    "        #     increment # order executed by two\n",
    "        n_executions[0] += 2\n",
    "        #     free up the two traders\n",
    "        #n_orders -=2\n",
    "    "
   ]
  },
  {
   "cell_type": "code",
   "execution_count": 6,
   "metadata": {},
   "outputs": [],
   "source": [
    "def routing(o,P,mainQ):\n",
    "    idx = bisect.bisect(KeyWrapper(mainQ, key=lambda c: c.p), o.p)\n",
    "    mainQ.insert(idx, o)"
   ]
  },
  {
   "cell_type": "markdown",
   "metadata": {},
   "source": [
    "## Parameters"
   ]
  },
  {
   "cell_type": "code",
   "execution_count": 7,
   "metadata": {
    "collapsed": true
   },
   "outputs": [],
   "source": [
    "nt = 15000 #15000\n",
    "nbt = 250\n",
    "nbt1 = 250\n",
    "nbt2 = 0\n",
    "a = 0.001\n",
    "r_bar = 100000\n",
    "k = 0.05\n",
    "s2pv = 100000000\n",
    "spv = 10000\n",
    "s2s = 150000000\n",
    "ss = s2s**0.5 #12247.4\n",
    "R = 2000\n",
    "rho = 0.0006\n",
    "l = 0.075 # an ZI agent arrives per 13 to 14 time steps\n",
    "delta = 0 # variable, ranging from 0 10 1000 "
   ]
  },
  {
   "cell_type": "markdown",
   "metadata": {},
   "source": [
    "## Seed"
   ]
  },
  {
   "cell_type": "code",
   "execution_count": 8,
   "metadata": {
    "collapsed": true
   },
   "outputs": [],
   "source": [
    "#np.random.seed(12345)"
   ]
  },
  {
   "cell_type": "markdown",
   "metadata": {},
   "source": [
    "## Simulation"
   ]
  },
  {
   "cell_type": "code",
   "execution_count": 9,
   "metadata": {},
   "outputs": [],
   "source": [
    "surplus_arr = []\n",
    "exe_time_arr = []\n",
    "spread_arr = []\n",
    "vola_arr = []\n",
    "for i in range(0,3):\n",
    "    \n",
    "    delta = i*100\n",
    "    np.random.seed(12345)\n",
    "    \n",
    "    surplus_a = []\n",
    "    exe_time_a = []\n",
    "    spread_a = []\n",
    "    vola_a = []\n",
    "    for j in range(0,200):\n",
    "    \n",
    "        ZI_agent_arrival = np.random.exponential(1/l,nt)\n",
    "        u = np.random.normal(0,ss,nt)\n",
    "\n",
    "        NBBO_ask = order(float('inf'),float('inf'),0)\n",
    "        NBBO_bid = order(-float('inf'),-float('inf'),0)\n",
    "        SIP_q = deque([])\n",
    "\n",
    "        M1_ask_q = deque()\n",
    "        M1_ask_q.append(order(float('inf'),float('inf'),0))\n",
    "        M1_bid_q = deque()\n",
    "        M1_bid_q.append(order(-float('inf'),-float('inf'),0))\n",
    "\n",
    "        M2_ask_q = deque()\n",
    "        M2_ask_q.append(order(float('inf'),float('inf'),0))\n",
    "        M2_bid_q = deque()\n",
    "        M2_bid_q.append(order(-float('inf'),-float('inf'),0))\n",
    "\n",
    "        r = [r_bar]\n",
    "\n",
    "        t_prev_arrival = 0\n",
    "        n_arrival = 0\n",
    "        n_orders = 0\n",
    "        n_orders1 = 0\n",
    "        n_orders2 = 0\n",
    "\n",
    "        surpluses = []\n",
    "        n_executions = [0]\n",
    "        execution_times = []\n",
    "        spreads = []\n",
    "        mqps = []\n",
    "\n",
    "        for t in range(1,nt):\n",
    "            \n",
    "            # update price\n",
    "            r.append(max(0,k*r_bar+(1-k)*r[t-1]+u[t]))\n",
    "\n",
    "            # see if agent arrives\n",
    "            if (n_orders < nbt and t_prev_arrival+ZI_agent_arrival[n_arrival]<t):\n",
    "                # update arrival event scheduling\n",
    "                t_prev_arrival += ZI_agent_arrival[n_arrival]\n",
    "                n_arrival += 1\n",
    "                # generate evaluation and place order\n",
    "                d = np.random.normal(r[t],spv)\n",
    "                PV = max(0,d)\n",
    "                \n",
    "                agent_market = np.random.normal()\n",
    "\n",
    "                if (True): # M1 agent\n",
    "                    if (np.random.normal() > 0.5): # buy\n",
    "                        P = np.random.uniform(PV-R,PV)\n",
    "                        if (P >= 0):\n",
    "                            o = order(P,PV,t)\n",
    "                            # Route to the right market\n",
    "                            routing(o,P,M1_bid_q)\n",
    "                            n_orders += 1\n",
    "                    else: # sell\n",
    "                        P = np.random.uniform(PV,PV+R)\n",
    "                        if (P >= 0):\n",
    "                            o = order(P,PV,t)\n",
    "                            # Route to the right market\n",
    "                            routing(o,P,M1_ask_q)\n",
    "                            n_orders += 1\n",
    "                            \n",
    "                # clear market bid-ask price\n",
    "                # Clear if ask < bid\n",
    "                clearing(M1_ask_q,M1_bid_q,surpluses,execution_times,n_executions)\n",
    "                # This entry needs order status from all markets\n",
    "                sip_entry = [t+delta,M1_ask_q[0],M1_bid_q[-1]]\n",
    "                idx = bisect.bisect(KeyWrapper(SIP_q, key=lambda c: c[0]), sip_entry[0])\n",
    "                SIP_q.insert(idx, sip_entry)\n",
    "                \n",
    "            # update NBBO (if previously scheduled)\n",
    "            if (SIP_q and SIP_q[0][0]<t):\n",
    "                NBBO_ask = min(NBBO_ask,SIP_q[0][1], key=lambda c: c.p)\n",
    "                SIP_q.popleft()\n",
    "            \n",
    "            if t < 3000:\n",
    "                # record spread\n",
    "                spread = 0.5*abs(M1_ask_q[0].p-M1_bid_q[-1].p)\n",
    "                if (spread < float('inf')):\n",
    "                    spreads.append(spread)\n",
    "                    \n",
    "                # record midquote price\n",
    "                if t%1 is 0:\n",
    "                    mqp = abs(0.5*(M1_ask_q[0].p+M1_bid_q[-1].p))\n",
    "                    if (mqp < float('inf')):\n",
    "                        mqps.append(mqp)\n",
    "                        \n",
    "        surplus_a.append(sum(surpluses))\n",
    "        exe_time_a.append(sum(execution_times)/n_executions[0])\n",
    "        spread_a.append(np.median(spreads))\n",
    "        vola_a.append(np.log(np.std(mqps)))\n",
    "                    \n",
    "    surplus_arr.append(np.mean(surplus_a))\n",
    "    exe_time_arr.append(np.mean(exe_time_a))\n",
    "    spread_arr.append(np.median(spread_a))\n",
    "    vola_arr.append(vola_a[0])"
   ]
  },
  {
   "cell_type": "code",
   "execution_count": 10,
   "metadata": {
    "scrolled": false
   },
   "outputs": [
    {
     "data": {
      "image/png": "[encoded data removed]",
      "text/plain": [
       "<matplotlib.figure.Figure at 0x110299e48>"
      ]
     },
     "metadata": {},
     "output_type": "display_data"
    }
   ],
   "source": [
    "plt.figure(figsize=(10,6))\n",
    "plt.plot(surplus_arr);"
   ]
  },
  {
   "cell_type": "code",
   "execution_count": 11,
   "metadata": {},
   "outputs": [
    {
     "data": {
      "image/png": "[encoded data removed]",
      "text/plain": [
       "<matplotlib.figure.Figure at 0x1a1925c470>"
      ]
     },
     "metadata": {},
     "output_type": "display_data"
    }
   ],
   "source": [
    "plt.figure(figsize=(10,6))\n",
    "plt.plot(exe_time_arr);"
   ]
  },
  {
   "cell_type": "code",
   "execution_count": 12,
   "metadata": {},
   "outputs": [
    {
     "data": {
      "image/png": "[encoded data removed]",
      "text/plain": [
       "<matplotlib.figure.Figure at 0x1a197d7da0>"
      ]
     },
     "metadata": {},
     "output_type": "display_data"
    }
   ],
   "source": [
    "plt.figure(figsize=(10,6))\n",
    "plt.plot(spread_arr);"
   ]
  },
  {
   "cell_type": "code",
   "execution_count": 13,
   "metadata": {},
   "outputs": [
    {
     "data": {
      "image/png": "[encoded data removed]",
      "text/plain": [
       "<matplotlib.figure.Figure at 0x1a1992dba8>"
      ]
     },
     "metadata": {},
     "output_type": "display_data"
    }
   ],
   "source": [
    "plt.figure(figsize=(10,6))\n",
    "plt.plot(vola_arr);"
   ]
  },
  {
   "cell_type": "code",
   "execution_count": null,
   "metadata": {
    "collapsed": true
   },
   "outputs": [],
   "source": []
  }
 ],
 "metadata": {
  "kernelspec": {
   "display_name": "Python 3",
   "language": "python",
   "name": "python3"
  },
  "language_info": {
   "codemirror_mode": {
    "name": "ipython",
    "version": 3
   },
   "file_extension": ".py",
   "mimetype": "text/x-python",
   "name": "python",
   "nbconvert_exporter": "python",
   "pygments_lexer": "ipython3",
   "version": "3.5.4"
  }
 },
 "nbformat": 4,
 "nbformat_minor": 2
}
