{
 "cells": [
  {
   "cell_type": "markdown",
   "metadata": {
    "collapsed": true
   },
   "source": [
    "# Latency Arbitrage\n",
    "## Central CDA Model\n",
    "\n",
    "continuous double auction"
   ]
  },
  {
   "cell_type": "code",
   "execution_count": 1,
   "metadata": {
    "collapsed": true
   },
   "outputs": [],
   "source": [
    "import numpy as np\n",
    "import bisect\n",
    "import matplotlib.pyplot as plt\n",
    "from collections import deque"
   ]
  },
  {
   "cell_type": "code",
   "execution_count": 2,
   "metadata": {
    "collapsed": true
   },
   "outputs": [],
   "source": [
    "class KeyWrapper:\n",
    "    def __init__(self, iterable, key):\n",
    "        self.it = iterable\n",
    "        self.key = key\n",
    "\n",
    "    def __getitem__(self, i):\n",
    "        return self.key(self.it[i])\n",
    "\n",
    "    def __len__(self):\n",
    "        return len(self.it)"
   ]
  },
  {
   "cell_type": "code",
   "execution_count": 3,
   "metadata": {
    "collapsed": true
   },
   "outputs": [],
   "source": [
    "def surplus(ask,bid,t):\n",
    "    # ask/bid order: [price,valuation,time placed]\n",
    "    p = ask[0] # assmue ask is the incumbent order\n",
    "    if t is ask[2]: # unless bid is...\n",
    "        p = bid[0]\n",
    "    return  np.exp(-rho*(t-bid[2]))*(bid[1]-p) + \\\n",
    "            np.exp(-rho*(t-ask[2]))*(p-ask[1])"
   ]
  },
  {
   "cell_type": "code",
   "execution_count": 4,
   "metadata": {
    "collapsed": true
   },
   "outputs": [],
   "source": [
    "nt = 15000 #15000\n",
    "nbt = 250\n",
    "a = 0.001\n",
    "r_bar = 100000\n",
    "k = 0.05\n",
    "s2pv = 100000000\n",
    "s2s = 150000000\n",
    "R = 2000\n",
    "rho = 0.0006\n",
    "l = 0.075 # an ZI agent arrives per 13 to 14 time steps\n",
    "delta = 100 # variable, ranging from 0 10 1000 "
   ]
  },
  {
   "cell_type": "code",
   "execution_count": 5,
   "metadata": {
    "collapsed": true
   },
   "outputs": [],
   "source": [
    "spv = 10000\n",
    "ss = s2s**0.5 #12247.4"
   ]
  },
  {
   "cell_type": "code",
   "execution_count": 6,
   "metadata": {
    "collapsed": true
   },
   "outputs": [],
   "source": [
    "np.random.seed(12345)\n",
    "ZI_agent_arrival = np.random.exponential(1/l,nt)\n",
    "u = np.random.normal(0,ss,nt)"
   ]
  },
  {
   "cell_type": "code",
   "execution_count": 7,
   "metadata": {
    "collapsed": true
   },
   "outputs": [],
   "source": [
    "NBBO_ask = [float('inf'),float('inf'),0]\n",
    "NBBO_bid = [-float('inf'),-float('inf'),0]\n",
    "SIP_q = deque([])\n",
    "M1_ask_q = deque([[float('inf'),float('inf'),0]])\n",
    "M1_bid_q = deque([[-float('inf'),-float('inf'),0]])\n",
    "r = [r_bar]\n",
    "t_prev_arrival = 0\n",
    "n_arrival = 0\n",
    "n_orders = 0\n",
    "total_surplus = 0\n",
    "\n",
    "for t in range(1,nt):\n",
    "    # update price\n",
    "    r.append(max(0,k*r_bar+(1-k)*r[t-1]+u[t]))\n",
    "    \n",
    "    # see if agent arrives\n",
    "    if (n_orders < nbt and t_prev_arrival+ZI_agent_arrival[n_arrival]<t):\n",
    "        # update arrival event scheduling\n",
    "        t_prev_arrival += ZI_agent_arrival[n_arrival]\n",
    "        n_arrival += 1\n",
    "        # generate evaluation and place order\n",
    "        d = np.random.normal(r[t],spv)\n",
    "        PV = max(0,d)\n",
    "        if (np.random.normal() > 0.5): # buy\n",
    "            P = np.random.uniform(PV-R,PV)\n",
    "            if (P >= 0):\n",
    "                # Route to the right market\n",
    "                # TODO\n",
    "                order = [P,PV,t]\n",
    "                idx = bisect.bisect(KeyWrapper(M1_bid_q, key=lambda c: c[0]), order[0])\n",
    "                M1_bid_q.insert(idx, order)\n",
    "                n_orders += 1\n",
    "        else: # sell\n",
    "            P = np.random.uniform(PV,PV+R)\n",
    "            if (P >= 0):\n",
    "                # Route to the right market\n",
    "                # TODO\n",
    "                order = [P,PV,t]\n",
    "                idx = bisect.bisect(KeyWrapper(M1_ask_q, key=lambda c: c[0]), order[0])\n",
    "                M1_ask_q.insert(idx, order)\n",
    "                n_orders += 1\n",
    "    \n",
    "    # clear market bid-ask price\n",
    "        # Clear if ask < bid\n",
    "        #TODO\n",
    "        if (M1_ask_q[0][0] <= M1_bid_q[-1][0]):\n",
    "            ask = M1_ask_q.popleft()\n",
    "            bid = M1_bid_q.pop()\n",
    "            total_surplus += surplus(ask,bid,t)\n",
    "            \n",
    "        # This entry needs order status from all markets\n",
    "        # TODO \n",
    "        sip_entry = [t+delta,M1_ask_q[0],M1_bid_q[-1]]\n",
    "        idx = bisect.bisect(KeyWrapper(SIP_q, key=lambda c: c[0]), sip_entry[0])\n",
    "        SIP_q.insert(idx, sip_entry)\n",
    "\n",
    "    # update NBBO (if previously scheduled)\n",
    "    if (SIP_q and SIP_q[0][0]<t):\n",
    "        NBBO_ask = min(NBBO_ask,SIP_q[0][1], key=lambda c: c[0])\n",
    "        NBBO_bid = max(NBBO_bid,SIP_q[0][2], key=lambda c: c[0])\n",
    "        SIP_q.popleft()\n",
    "    \n",
    "    # calculate surplus\n",
    "        # TODO\n",
    "        "
   ]
  },
  {
   "cell_type": "code",
   "execution_count": 8,
   "metadata": {},
   "outputs": [
    {
     "data": {
      "text/plain": [
       "deque([])"
      ]
     },
     "execution_count": 8,
     "metadata": {},
     "output_type": "execute_result"
    }
   ],
   "source": [
    "SIP_q"
   ]
  },
  {
   "cell_type": "code",
   "execution_count": 9,
   "metadata": {},
   "outputs": [
    {
     "data": {
      "text/plain": [
       "([22948.577946232126, 21706.72431177901, 2980],\n",
       " [89060.0378317397, 90045.38542818885, 229])"
      ]
     },
     "execution_count": 9,
     "metadata": {},
     "output_type": "execute_result"
    }
   ],
   "source": [
    "NBBO_ask,NBBO_bid"
   ]
  },
  {
   "cell_type": "code",
   "execution_count": 10,
   "metadata": {},
   "outputs": [
    {
     "data": {
      "text/plain": [
       "128"
      ]
     },
     "execution_count": 10,
     "metadata": {},
     "output_type": "execute_result"
    }
   ],
   "source": [
    "len(M1_ask_q)+len(M1_bid_q)"
   ]
  },
  {
   "cell_type": "code",
   "execution_count": 11,
   "metadata": {
    "scrolled": true
   },
   "outputs": [
    {
     "data": {
      "text/plain": [
       "deque([[66945.23003918238, 65690.84985841862, 3263],\n",
       "       [67353.65146637813, 66313.19850493164, 2913],\n",
       "       [67880.97495042998, 67820.10654721103, 3163],\n",
       "       [68935.74980354664, 67350.63072888817, 3266],\n",
       "       [69469.41813195958, 67841.82499950894, 3215],\n",
       "       [70583.9736327646, 68985.16055597285, 3336],\n",
       "       [71790.82246416358, 70965.04017715633, 3166],\n",
       "       [73362.20329915846, 72551.0783693597, 3159],\n",
       "       [74459.96422340351, 73770.27102030553, 3165],\n",
       "       [84125.37284154567, 82432.66541769757, 2249],\n",
       "       [85524.68151434106, 85188.01637226922, 2625],\n",
       "       [86031.18081704271, 84079.07897096242, 3137],\n",
       "       [86839.83309645913, 86582.88072782525, 2025],\n",
       "       [86981.74808459854, 85406.82213957283, 2624],\n",
       "       [90165.19109883493, 88596.4260084682, 2949],\n",
       "       [90327.22611732018, 90262.38570703758, 2413],\n",
       "       [91517.01384559867, 91360.58231194121, 3164],\n",
       "       [93210.72237517401, 93154.93294323448, 2555],\n",
       "       [93426.50589369338, 93110.47851600335, 1283],\n",
       "       [94290.86704085914, 93605.13333522732, 992],\n",
       "       [94384.35302155938, 93822.6115558073, 2033],\n",
       "       [94406.7189149968, 94173.67233850836, 1475],\n",
       "       [95629.64890318694, 95483.48871611936, 923],\n",
       "       [96101.25445363834, 94909.52160913391, 1270],\n",
       "       [100998.9041885627, 100464.25344544464, 2794],\n",
       "       [102081.06140084189, 100995.35018755047, 1247],\n",
       "       [102554.18820716461, 101937.76509881952, 1886],\n",
       "       [103972.82196064171, 103681.85242609208, 2626],\n",
       "       [104070.21869344678, 102872.64919298688, 2270],\n",
       "       [104254.38832747482, 103998.56491546848, 959],\n",
       "       [104864.57253350913, 104206.72401623982, 2271],\n",
       "       [104968.46719247435, 103491.0296106385, 735],\n",
       "       [105549.95035238448, 103821.47302521291, 2335],\n",
       "       [105866.74439187568, 104972.7242489644, 1243],\n",
       "       [106860.27512527151, 105151.8232176428, 2182],\n",
       "       [107104.2935298823, 106371.64333592866, 1627],\n",
       "       [107664.28056920375, 106436.08488808872, 2031],\n",
       "       [107777.31915615148, 107574.79108927415, 1152],\n",
       "       [108308.54826996895, 107727.81516225045, 2035],\n",
       "       [109131.8321450298, 108772.13634369943, 528],\n",
       "       [111136.8352924581, 110908.38584473685, 2725],\n",
       "       [111458.69763314335, 109828.08828266906, 2701],\n",
       "       [111910.33083762469, 111709.94733104472, 2521],\n",
       "       [112100.26902439356, 110132.41410248574, 1373],\n",
       "       [112150.72015594655, 111652.34356802546, 553],\n",
       "       [113635.62089001987, 112478.76151767367, 1595],\n",
       "       [113790.04873436893, 113293.99622709362, 2832],\n",
       "       [116064.94224479838, 115435.19208062919, 2882],\n",
       "       [116650.60255633754, 115308.76918453477, 2791],\n",
       "       [117107.15834273022, 115801.94143602085, 1581],\n",
       "       [117194.81129683684, 115533.76536941344, 2012],\n",
       "       [117219.18228039873, 116483.81413886818, 399],\n",
       "       [117870.37100219847, 116048.6010721049, 407],\n",
       "       [119022.07514406451, 117817.07462574383, 2703],\n",
       "       [119066.39242797771, 117069.09009616027, 3342],\n",
       "       [119322.92971907897, 118686.09565105622, 3056],\n",
       "       [119363.30036134517, 118002.56451142169, 3122],\n",
       "       [122662.89149644446, 122139.81056030098, 2770],\n",
       "       [122980.3260433969, 121274.0862361216, 3156],\n",
       "       [123798.82257672062, 122297.88474495542, 2261],\n",
       "       [123933.87408307476, 122123.58155907341, 293],\n",
       "       [125333.96656816477, 124146.21825349065, 794],\n",
       "       [125561.01615141406, 124894.7575604194, 2311],\n",
       "       [126132.47769563808, 125230.72471505699, 2144],\n",
       "       [126174.41133313866, 126144.38039413122, 1927],\n",
       "       [126344.50120455172, 125517.22862302825, 2750],\n",
       "       [128403.64192028272, 127517.31143018827, 1289],\n",
       "       [128909.35300571061, 127048.77946977165, 1054],\n",
       "       [130027.07893625932, 129702.52505186228, 2146],\n",
       "       [130667.48566243643, 129436.21918733505, 829],\n",
       "       [130915.34493061008, 130798.59158125581, 2094],\n",
       "       [131340.9434196155, 129949.89213830959, 759],\n",
       "       [132626.15851692122, 132299.18477750596, 853],\n",
       "       [132700.50861966397, 132159.41492889303, 2629],\n",
       "       [133089.6949500615, 132030.65800520478, 2143],\n",
       "       [133264.52121684924, 131270.43576581354, 3069],\n",
       "       [133580.57969548032, 132991.51036231924, 3363],\n",
       "       [133588.70496484626, 131891.62250712863, 2296],\n",
       "       [133650.81631089936, 133030.1042916303, 1040],\n",
       "       [135050.76983706825, 134758.63497657963, 2843],\n",
       "       [135736.58265343943, 134395.97900894302, 2955],\n",
       "       [136605.11796835472, 135440.62592076586, 928],\n",
       "       [138077.53999588665, 136755.96812385417, 368],\n",
       "       [140250.77078257318, 139707.51964517406, 939],\n",
       "       [140260.38620150194, 140102.37642165273, 3065],\n",
       "       [142145.61157775682, 140947.99268563057, 2527],\n",
       "       [142238.33180482485, 140945.79830834008, 884],\n",
       "       [142447.09591272974, 140645.94870953055, 3038],\n",
       "       [142948.56742525814, 141730.56986264605, 3314],\n",
       "       [143054.60198948556, 141721.95766384355, 1733],\n",
       "       [143183.96570397695, 142083.63579987825, 2705],\n",
       "       [143792.7053739277, 141889.67616782393, 3062],\n",
       "       [145016.06045282705, 143038.25611569866, 3013],\n",
       "       [145946.37887283752, 145408.9632960509, 2138],\n",
       "       [146181.28402633208, 145163.33638673738, 385],\n",
       "       [147657.7796978168, 145743.98094341368, 3035],\n",
       "       [149403.62327839964, 147812.76678086753, 3022],\n",
       "       [149572.82169616452, 149219.6434919249, 1347],\n",
       "       [150687.8477995422, 149944.05839553336, 762],\n",
       "       [152599.19273295486, 151358.4250937666, 2751],\n",
       "       [153003.23729632047, 152348.72595421106, 646],\n",
       "       [153274.60927310042, 152439.04279663778, 2383],\n",
       "       [153652.64069456307, 153072.3863736165, 3101],\n",
       "       [153708.12243628083, 152106.4500667068, 603],\n",
       "       [154990.9602069643, 154838.3651492789, 1757],\n",
       "       [155944.80145935863, 154430.6347926974, 1802],\n",
       "       [158000.3462637026, 157682.87848835855, 1801],\n",
       "       [162586.52740972524, 161579.9836970935, 3075],\n",
       "       [162815.9902188305, 161071.61987257053, 3303],\n",
       "       [163606.66092663608, 162849.85881412117, 981],\n",
       "       [165834.1525902, 163975.6521525655, 3095],\n",
       "       [166461.0162772352, 164831.7096291979, 3073],\n",
       "       [171902.82836081288, 171290.6556624181, 338],\n",
       "       [172573.95974702793, 172274.41723449194, 3099],\n",
       "       [173145.52167309978, 171598.54196958072, 1748],\n",
       "       [175183.2423561343, 174530.23832005556, 355],\n",
       "       [175397.03982749014, 173477.52214505046, 1507],\n",
       "       [177743.87150614848, 176071.61680598705, 3115],\n",
       "       [179665.70356228694, 178333.68427650863, 2284],\n",
       "       [182420.20883393238, 180640.47648814495, 161],\n",
       "       [182635.2525709685, 181183.2574668466, 1814],\n",
       "       [188256.34043831768, 186948.8355529683, 2005],\n",
       "       [192737.58724571098, 191338.92859093723, 2277],\n",
       "       [196303.15288305245, 195637.16115406246, 1826],\n",
       "       [198386.09213501267, 197567.95982763194, 663],\n",
       "       [inf, inf, 0]])"
      ]
     },
     "execution_count": 11,
     "metadata": {},
     "output_type": "execute_result"
    }
   ],
   "source": [
    "M1_ask_q"
   ]
  },
  {
   "cell_type": "code",
   "execution_count": 12,
   "metadata": {},
   "outputs": [
    {
     "data": {
      "text/plain": [
       "deque([[-inf, -inf, 0], [20108.73285600028, 21129.929629892336, 1161]])"
      ]
     },
     "execution_count": 12,
     "metadata": {},
     "output_type": "execute_result"
    }
   ],
   "source": [
    "M1_bid_q"
   ]
  },
  {
   "cell_type": "code",
   "execution_count": 13,
   "metadata": {},
   "outputs": [
    {
     "data": {
      "text/plain": [
       "2681658.2937285868"
      ]
     },
     "execution_count": 13,
     "metadata": {},
     "output_type": "execute_result"
    }
   ],
   "source": [
    "total_surplus"
   ]
  },
  {
   "cell_type": "code",
   "execution_count": 14,
   "metadata": {},
   "outputs": [
    {
     "data": {
      "image/png": "[encoded data removed]",
      "text/plain": [
       "<matplotlib.figure.Figure at 0x104ec2a58>"
      ]
     },
     "metadata": {},
     "output_type": "display_data"
    }
   ],
   "source": [
    "plt.figure(figsize=(10,6))\n",
    "plt.plot(r)\n",
    "plt.title(\"Price Process\", fontsize=18)\n",
    "plt.xlabel(\"Date\", fontsize=15)\n",
    "plt.ylabel(\"Price\", fontsize=15)\n",
    "plt.show()"
   ]
  },
  {
   "cell_type": "code",
   "execution_count": null,
   "metadata": {
    "collapsed": true
   },
   "outputs": [],
   "source": []
  }
 ],
 "metadata": {
  "kernelspec": {
   "display_name": "Python 3",
   "language": "python",
   "name": "python3"
  },
  "language_info": {
   "codemirror_mode": {
    "name": "ipython",
    "version": 3
   },
   "file_extension": ".py",
   "mimetype": "text/x-python",
   "name": "python",
   "nbconvert_exporter": "python",
   "pygments_lexer": "ipython3",
   "version": "3.5.4"
  }
 },
 "nbformat": 4,
 "nbformat_minor": 2
}
