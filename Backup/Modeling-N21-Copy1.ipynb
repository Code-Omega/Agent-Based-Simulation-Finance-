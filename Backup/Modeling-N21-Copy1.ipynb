{
 "cells": [
  {
   "cell_type": "markdown",
   "metadata": {
    "collapsed": true
   },
   "source": [
    "# Latency Arbitrage\n",
    "## Two Market Model\n",
    "\n",
    "TODO:\n",
    "   7. add a second market\n",
    "   8. add routing\n",
    "   9. update SIP\n",
    "   10. (At time time, a system w/o LA is complete)\n",
    "   11. plot\n",
    "   12. add LA\n",
    "   13. add other measures"
   ]
  },
  {
   "cell_type": "code",
   "execution_count": 1,
   "metadata": {
    "collapsed": true
   },
   "outputs": [],
   "source": [
    "%matplotlib inline\n",
    "import numpy as np\n",
    "import bisect\n",
    "import matplotlib.pyplot as plt\n",
    "from collections import deque\n",
    "import seaborn as sns\n",
    "\n",
    "import warnings\n",
    "\n",
    "warnings.simplefilter(\"error\")"
   ]
  },
  {
   "cell_type": "markdown",
   "metadata": {},
   "source": [
    "## Classes and functions"
   ]
  },
  {
   "cell_type": "code",
   "execution_count": 2,
   "metadata": {
    "collapsed": true
   },
   "outputs": [],
   "source": [
    "class Order:\n",
    "    def __init__(self, price, valuation, time, market):\n",
    "        self.p = price\n",
    "        self.pv = valuation\n",
    "        self.t = time\n",
    "        self.m = market\n",
    "        \n",
    "    def __getitem__(self, i):\n",
    "        if i is 0:\n",
    "            return self.p\n",
    "        elif i is 1:\n",
    "            return self.pv\n",
    "        elif i is 2:\n",
    "            return self.t\n",
    "        elif i is 3:\n",
    "            return self.m\n",
    "        else:\n",
    "            raise IndexError(\"{} is not a valid index.\\n Use 0 for price, 1 for valuation, 2 for time, 3 for market.\".format(i))"
   ]
  },
  {
   "cell_type": "code",
   "execution_count": 3,
   "metadata": {
    "collapsed": true
   },
   "outputs": [],
   "source": [
    "class KeyWrapper:\n",
    "    def __init__(self, iterable, key):\n",
    "        self.it = iterable\n",
    "        self.key = key\n",
    "\n",
    "    def __getitem__(self, i):\n",
    "        return self.key(self.it[i])\n",
    "\n",
    "    def __len__(self):\n",
    "        return len(self.it)"
   ]
  },
  {
   "cell_type": "code",
   "execution_count": 4,
   "metadata": {
    "collapsed": true
   },
   "outputs": [],
   "source": [
    "def surplus(ask,bid,t):\n",
    "    # ask/bid order: [price,valuation,time placed]\n",
    "    p = ask.p # assmue ask is the incumbent order\n",
    "    if t is ask.t: # unless bid is...\n",
    "        p = bid.p\n",
    "    return  np.exp(-rho*(t-bid.t))*(bid.pv-p) + \\\n",
    "            np.exp(-rho*(t-ask.t))*(p-ask.pv)"
   ]
  },
  {
   "cell_type": "code",
   "execution_count": 5,
   "metadata": {
    "collapsed": true
   },
   "outputs": [],
   "source": [
    "def clearing(M,m,t,sip,delta,surpluses,execution_times,n_executions):\n",
    "    # Clear if ask < bid\n",
    "    if (M[m].ask_q[0].p <= M[m].bid_q[-1].p):\n",
    "        # clear the 2 orders\n",
    "        ask = M[m].ask_q.popleft()\n",
    "        bid = M[m].bid_q.pop()\n",
    "        # Metrics related to order clearning\n",
    "        #     calculate the surplus\n",
    "        surpluses.append(surplus(ask,bid,t))\n",
    "        #     calculate the execution time (for one of them it's just 0)\n",
    "        execution_times.append(abs(ask.t-bid.t))\n",
    "        #     increment # order executed by two\n",
    "        n_executions[0] += 2\n",
    "        #     free up the two traders (we don't do this :\\)\n",
    "        #n_orders -=2\n",
    "        \n",
    "        # send new market status to SIP\n",
    "        sip.send(t,delta,m,M[m].ask_q[0],M[m].bid_q[-1])\n",
    "        \n",
    "    "
   ]
  },
  {
   "cell_type": "code",
   "execution_count": 6,
   "metadata": {
    "collapsed": true
   },
   "outputs": [],
   "source": [
    "class Market:\n",
    "    def __init__(self):\n",
    "        self.ask_q = deque()\n",
    "        self.ask_q.append(Order(float('inf'),float('inf'),0,-1))\n",
    "        self.bid_q = deque()\n",
    "        self.bid_q.append(Order(-float('inf'),-float('inf'),0,-1))\n",
    "        "
   ]
  },
  {
   "cell_type": "code",
   "execution_count": 7,
   "metadata": {
    "collapsed": true
   },
   "outputs": [],
   "source": [
    "class SIP:\n",
    "    def __init__(self,n_markets):\n",
    "        self.q = deque([]) #[scheduled_time,market,ask_order,bid_order]\n",
    "        self.market_asks = [Order(float('inf'),float('inf'),0,-1)]*n_markets\n",
    "        self.market_bids = [Order(-float('inf'),-float('inf'),0,-1)]*n_markets\n",
    "        self.NBBO_ask = Order(float('inf'),float('inf'),0,-1)\n",
    "        self.NBBO_bid = Order(-float('inf'),-float('inf'),0,-1)\n",
    "    \n",
    "    def send(self,entry_time,delta,market,ask_order,bid_order):\n",
    "        sip_entry = [entry_time+delta,market,ask_order,bid_order]\n",
    "        idx = bisect.bisect(KeyWrapper(self.q, key=lambda c: c[0]), sip_entry[0])\n",
    "        self.q.insert(idx, sip_entry)\n",
    "        \n",
    "    def updateNBBO(self):\n",
    "        self.NBBO_ask = min(self.market_asks, key=lambda c: c.p)\n",
    "        self.NBBO_bid = max(self.market_bids, key=lambda c: c.p)\n",
    "        \n",
    "    def ProcessQuote(self,t):\n",
    "        if (self.q and self.q[0][0]<t):\n",
    "            entry = self.q.popleft()\n",
    "            self.market_asks[entry[1]] = entry[2]\n",
    "            self.market_bids[entry[1]] = entry[3]\n",
    "            self.updateNBBO()"
   ]
  },
  {
   "cell_type": "code",
   "execution_count": 8,
   "metadata": {},
   "outputs": [],
   "source": [
    "def routing(o,M,sip,o_type):\n",
    "    # o_type: 1 for ask, 2 for bid\n",
    "    if o_type is 1:\n",
    "        # P > AskN and AskN < Ask1\n",
    "        if o.p >= sip.NBBO_ask.p and sip.NBBO_ask.p < M[o.m].ask_q[0].p:\n",
    "            o.m = sip.NBBO_ask.m\n",
    "        idx = bisect.bisect(KeyWrapper(M[o.m].ask_q, key=lambda c: c.p), o.p)\n",
    "        M[o.m].ask_q.insert(idx, o)\n",
    "    elif o_type is 2:\n",
    "        if o.p <= sip.NBBO_bid.p and sip.NBBO_bid.p > M[o.m].bid_q[-1].p:\n",
    "            o.m = sip.NBBO_bid.m\n",
    "        idx = bisect.bisect(KeyWrapper(M[o.m].bid_q, key=lambda c: c.p), o.p)\n",
    "        M[o.m].bid_q.insert(idx, o)\n",
    "    else:\n",
    "        raise IndexError(\"{} not valid.\\n Use 1 for ask, 2 for bid\".format(o_type))\n",
    "    return o.m"
   ]
  },
  {
   "cell_type": "markdown",
   "metadata": {},
   "source": [
    "## Parameters"
   ]
  },
  {
   "cell_type": "code",
   "execution_count": 9,
   "metadata": {
    "collapsed": true
   },
   "outputs": [],
   "source": [
    "nt = 15000 #15000\n",
    "n_markets = 1\n",
    "nbt = [250]\n",
    "a = 0.001\n",
    "r_bar = 100000\n",
    "k = 0.05\n",
    "s2pv = 100000000\n",
    "spv = 10000\n",
    "s2s = 150000000\n",
    "ss = s2s**0.5 #12247.4\n",
    "R = 2000\n",
    "rho = 0.0006\n",
    "l = 0.075*2 # an ZI agent arrives per 13 to 14 time steps\n",
    "delta = 0 # variable, ranging from 0 10 1000 "
   ]
  },
  {
   "cell_type": "markdown",
   "metadata": {},
   "source": [
    "## Seed"
   ]
  },
  {
   "cell_type": "code",
   "execution_count": 10,
   "metadata": {
    "collapsed": true
   },
   "outputs": [],
   "source": [
    "#np.random.seed(12345)"
   ]
  },
  {
   "cell_type": "markdown",
   "metadata": {},
   "source": [
    "## Simulation"
   ]
  },
  {
   "cell_type": "code",
   "execution_count": 11,
   "metadata": {},
   "outputs": [
    {
     "name": "stdout",
     "output_type": "stream",
     "text": [
      "0\n",
      "1\n",
      "2\n",
      "3\n",
      "4\n",
      "5\n",
      "6\n",
      "7\n",
      "8\n",
      "9\n",
      "10\n"
     ]
    }
   ],
   "source": [
    "surplus_arr = []\n",
    "exe_time_arr = []\n",
    "spread_arr = []\n",
    "vola_arr = []\n",
    "\n",
    "# evaluate for each delta\n",
    "for d in range(0,11):\n",
    "    \n",
    "    # update delta\n",
    "    delta = d*100\n",
    "    # reset random numbers\n",
    "    np.random.seed(12345)\n",
    "    \n",
    "    # reset per delta metrics\n",
    "    surplus_a = []\n",
    "    exe_time_a = []\n",
    "    spread_a = []\n",
    "    vola_a = []\n",
    "    \n",
    "    print(d)\n",
    "    \n",
    "    # evaluate over a number of runs\n",
    "    for j in range(0,2):\n",
    "    \n",
    "        # set ZI_arrival intervals\n",
    "        # note that since each agent only places one order, \n",
    "        # an offset (cumsum) of this becomes the arrival times.\n",
    "        ZI_agent_arrival = np.random.exponential(1/l,nt)\n",
    "        # randomly distribute the agents to each market\n",
    "        # note that this should be the same given the same seed.\n",
    "        ZI_agent_market = []\n",
    "        for i in range(n_markets):\n",
    "            ZI_agent_market.extend([i]*nbt[i])\n",
    "        ZI_agent_market = np.random.permutation(ZI_agent_market)\n",
    "        # movement of the asset value\n",
    "        u = np.random.normal(0,ss,nt)\n",
    "\n",
    "        # initialize simulation variables\n",
    "        r = [r_bar]\n",
    "        t_prev_arrival = 0\n",
    "        n_arrival = 0\n",
    "        n_orders = [0]*n_markets\n",
    "        M = [Market() for _ in range(n_markets)]\n",
    "        sip = SIP(n_markets)\n",
    "\n",
    "        # initialize metrics tracking variables\n",
    "        surpluses = []\n",
    "        n_executions = [0]\n",
    "        execution_times = []\n",
    "        spreads = [0]\n",
    "        mqps = []\n",
    "\n",
    "        for t in range(1,nt):\n",
    "            \n",
    "            # update price\n",
    "            r.append(max(0,k*r_bar+(1-k)*r[t-1]+u[t]))\n",
    "            \n",
    "            #### The priority of this is ... not certain.\n",
    "            sip.ProcessQuote(t)\n",
    "            ####\n",
    "\n",
    "            # see if agent arrives\n",
    "            if (sum(n_orders) < sum(nbt) and t_prev_arrival+ZI_agent_arrival[n_arrival]<t):\n",
    "                # see which market the agent is from\n",
    "                ziam = ZI_agent_market[n_arrival]\n",
    "                # update arrival event scheduling\n",
    "                t_prev_arrival += ZI_agent_arrival[n_arrival]\n",
    "                n_arrival += 1\n",
    "                # generate valuation\n",
    "                d = np.random.normal(r[t],spv)\n",
    "                PV = max(0,d)\n",
    "\n",
    "                # place order\n",
    "                order_type = 0 # undecided\n",
    "                if (np.random.normal() > 0.5): # buy\n",
    "                    P = max(0,np.random.uniform(PV-R,PV))\n",
    "                    order_type = 1\n",
    "                else: # sell\n",
    "                    P = max(0,np.random.uniform(PV,PV+R))\n",
    "                    order_type = 2\n",
    "                # creating order\n",
    "                o = Order(P,PV,t,ziam)\n",
    "                # Route to the right market, record it in a variable\n",
    "                rm = routing(o,M,sip,order_type)\n",
    "                n_orders[ziam] += 1 # this has nothing to do with \n",
    "                # where the order is routed, only where the agent is from.\n",
    "\n",
    "                # clear market bid-ask price\n",
    "                clearing(M,rm,t,sip,delta,surpluses,execution_times,n_executions)\n",
    "            \n",
    "            if t < 3000:\n",
    "                # record spread\n",
    "                for i in range(n_markets):\n",
    "                    spread = abs(M[i].ask_q[0].p-M[i].bid_q[-1].p)\n",
    "                    if (spread < float('inf')):\n",
    "                        spreads.append(spread)\n",
    "                    \n",
    "                # record midquote price\n",
    "                if t%1 is 0:\n",
    "                    mqp = abs(0.5*(sip.NBBO_ask.p+sip.NBBO_bid.p))\n",
    "                    if (mqp < float('inf')):\n",
    "                        mqps.append(mqp)\n",
    "                        \n",
    "        surplus_a.append(sum(surpluses))\n",
    "        exe_time_a.append(sum(execution_times)/n_executions[0])\n",
    "        spread_a.append(np.median(spreads))\n",
    "        vola_a.append(np.log(np.std(mqps)))\n",
    "                    \n",
    "    surplus_arr.append(np.mean(surplus_a))\n",
    "    exe_time_arr.append(np.mean(exe_time_a))\n",
    "    spread_arr.append(np.median(spread_a))\n",
    "    vola_arr.append(vola_a[0])"
   ]
  },
  {
   "cell_type": "code",
   "execution_count": 12,
   "metadata": {
    "scrolled": false
   },
   "outputs": [
    {
     "data": {
      "image/png": "[encoded data removed]",
      "text/plain": [
       "<matplotlib.figure.Figure at 0x10bfb7630>"
      ]
     },
     "metadata": {},
     "output_type": "display_data"
    }
   ],
   "source": [
    "plt.figure(figsize=(10,6))\n",
    "plt.plot(surplus_arr);"
   ]
  },
  {
   "cell_type": "code",
   "execution_count": 13,
   "metadata": {},
   "outputs": [
    {
     "data": {
      "image/png": "[encoded data removed]",
      "text/plain": [
       "<matplotlib.figure.Figure at 0x10bfb7780>"
      ]
     },
     "metadata": {},
     "output_type": "display_data"
    }
   ],
   "source": [
    "plt.figure(figsize=(10,6))\n",
    "plt.plot(exe_time_arr);"
   ]
  },
  {
   "cell_type": "code",
   "execution_count": 14,
   "metadata": {},
   "outputs": [
    {
     "data": {
      "image/png": "[encoded data removed]",
      "text/plain": [
       "<matplotlib.figure.Figure at 0x1118684a8>"
      ]
     },
     "metadata": {},
     "output_type": "display_data"
    }
   ],
   "source": [
    "plt.figure(figsize=(10,6))\n",
    "plt.plot(spread_arr);"
   ]
  },
  {
   "cell_type": "code",
   "execution_count": 15,
   "metadata": {},
   "outputs": [
    {
     "data": {
      "image/png": "[encoded data removed]",
      "text/plain": [
       "<matplotlib.figure.Figure at 0x11130d940>"
      ]
     },
     "metadata": {},
     "output_type": "display_data"
    }
   ],
   "source": [
    "plt.figure(figsize=(10,6))\n",
    "plt.plot(vola_arr);"
   ]
  },
  {
   "cell_type": "code",
   "execution_count": null,
   "metadata": {
    "collapsed": true
   },
   "outputs": [],
   "source": []
  }
 ],
 "metadata": {
  "kernelspec": {
   "display_name": "Python 3",
   "language": "python",
   "name": "python3"
  },
  "language_info": {
   "codemirror_mode": {
    "name": "ipython",
    "version": 3
   },
   "file_extension": ".py",
   "mimetype": "text/x-python",
   "name": "python",
   "nbconvert_exporter": "python",
   "pygments_lexer": "ipython3",
   "version": "3.5.4"
  }
 },
 "nbformat": 4,
 "nbformat_minor": 2
}
